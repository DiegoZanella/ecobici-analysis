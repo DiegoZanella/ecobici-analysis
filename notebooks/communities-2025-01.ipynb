{
 "cells": [
  {
   "cell_type": "code",
   "id": "initial_id",
   "metadata": {
    "collapsed": true,
    "ExecuteTime": {
     "end_time": "2025-05-09T18:52:13.976433Z",
     "start_time": "2025-05-09T18:52:13.258635Z"
    }
   },
   "source": [
    "import pandas as pd\n",
    "import folium\n",
    "from matplotlib import cm\n",
    "from matplotlib.colors import to_hex\n",
    "\n",
    "\n",
    "# Load data\n",
    "dataset_name = '2025-01'\n",
    "filename_loc = f'../data/processed/communities_{dataset_name}.csv'\n",
    "output_loc = f'../maps/communities_{dataset_name}.html'\n",
    "geo_with_communities = pd.read_csv(filename_loc)\n",
    "\n"
   ],
   "outputs": [
    {
     "name": "stderr",
     "output_type": "stream",
     "text": [
      "/Users/diego/Software Projects/ecobici-analysis/.venv/lib/python3.9/site-packages/urllib3/__init__.py:35: NotOpenSSLWarning: urllib3 v2 only supports OpenSSL 1.1.1+, currently the 'ssl' module is compiled with 'LibreSSL 2.8.3'. See: https://github.com/urllib3/urllib3/issues/3020\n",
      "  warnings.warn(\n"
     ]
    }
   ],
   "execution_count": 5
  },
  {
   "metadata": {
    "ExecuteTime": {
     "end_time": "2025-05-09T18:52:40.691294Z",
     "start_time": "2025-05-09T18:52:40.350496Z"
    }
   },
   "cell_type": "code",
   "source": [
    "# Map center\n",
    "center_lat = geo_with_communities['latitud'].mean()\n",
    "center_lon = geo_with_communities['longitud'].mean()\n",
    "\n",
    "# Get unique communities\n",
    "unique_comms = sorted(geo_with_communities['community'].unique())\n",
    "n_comms = len(unique_comms)\n",
    "\n",
    "# Get N visually distinct colors\n",
    "cmap = cm.get_cmap('gist_rainbow', n_comms)\n",
    "colors = {comm: to_hex(cmap(i)) for i, comm in enumerate(unique_comms)}\n",
    "\n",
    "community_map = folium.Map(location=[center_lat, center_lon], zoom_start=13)\n",
    "\n",
    "for _, row in geo_with_communities.iterrows():\n",
    "    lat = float(row['latitud'])\n",
    "    lon = float(row['longitud'])\n",
    "    comm = row['community']\n",
    "    name = row['nombre']\n",
    "    \n",
    "    folium.CircleMarker(\n",
    "        location=[lat, lon],\n",
    "        radius=5,\n",
    "        popup=f\"<b>{name}</b><br>Community: {comm}\",\n",
    "        color=colors[comm],\n",
    "        fill=True,\n",
    "        fill_color=colors[comm],\n",
    "        fill_opacity=0.7\n",
    "    ).add_to(community_map)\n",
    "\n",
    "community_map.save(output_loc)"
   ],
   "id": "da101e700ca4e26c",
   "outputs": [
    {
     "name": "stderr",
     "output_type": "stream",
     "text": [
      "/var/folders/0c/y0y1q2_j4vl8b9nj33gw48nc0000gn/T/ipykernel_78693/3064358406.py:10: MatplotlibDeprecationWarning: The get_cmap function was deprecated in Matplotlib 3.7 and will be removed in 3.11. Use ``matplotlib.colormaps[name]`` or ``matplotlib.colormaps.get_cmap()`` or ``pyplot.get_cmap()`` instead.\n",
      "  cmap = cm.get_cmap('gist_rainbow', n_comms)\n"
     ]
    }
   ],
   "execution_count": 7
  },
  {
   "metadata": {},
   "cell_type": "code",
   "outputs": [],
   "execution_count": null,
   "source": "",
   "id": "870091b6bdebc27e"
  }
 ],
 "metadata": {
  "kernelspec": {
   "display_name": "Python 3",
   "language": "python",
   "name": "python3"
  },
  "language_info": {
   "codemirror_mode": {
    "name": "ipython",
    "version": 2
   },
   "file_extension": ".py",
   "mimetype": "text/x-python",
   "name": "python",
   "nbconvert_exporter": "python",
   "pygments_lexer": "ipython2",
   "version": "2.7.6"
  }
 },
 "nbformat": 4,
 "nbformat_minor": 5
}
